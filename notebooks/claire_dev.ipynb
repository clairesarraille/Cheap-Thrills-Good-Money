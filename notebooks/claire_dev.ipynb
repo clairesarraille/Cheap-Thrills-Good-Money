{
 "cells": [
  {
   "cell_type": "code",
   "execution_count": 1,
   "id": "3badb322",
   "metadata": {},
   "outputs": [],
   "source": [
    "import pandas as pd\n",
    "import sqlite3\n"
   ]
  },
  {
   "cell_type": "code",
   "execution_count": 6,
   "id": "fb9f450d",
   "metadata": {},
   "outputs": [],
   "source": [
    "file_path = '/Users/claire/git/flatiron/phase_02/finalproject/DSC-Phase2-Project2/unzippedData/im.db'\n",
    "conn = sqlite3.connect(file_path)\n"
   ]
  },
  {
   "cell_type": "code",
   "execution_count": 7,
   "id": "2a405fbe",
   "metadata": {
    "scrolled": true
   },
   "outputs": [
    {
     "name": "stdout",
     "output_type": "stream",
     "text": [
      "bom.movie_gross.csv.gz  rt.movie_info.tsv.gz    tn.movie_budgets.csv.gz\n",
      "im.db                   rt.reviews.tsv.gz\n",
      "im.db.zip               tmdb.movies.csv.gz\n"
     ]
    }
   ],
   "source": [
    "! ls ../unzippedData"
   ]
  },
  {
   "cell_type": "code",
   "execution_count": 8,
   "id": "e0b3771e",
   "metadata": {},
   "outputs": [],
   "source": [
    "cursor = conn.cursor()"
   ]
  },
  {
   "cell_type": "markdown",
   "id": "7151c854",
   "metadata": {},
   "source": [
    "![Image of ERD Diagram IMDB](https://raw.githubusercontent.com/learn-co-curriculum/dsc-phase-2-project-v3/main/movie_data_erd.jpeg)\n"
   ]
  },
  {
   "cell_type": "code",
   "execution_count": 23,
   "id": "7cece292",
   "metadata": {
    "scrolled": true
   },
   "outputs": [
    {
     "data": {
      "text/plain": [
       "['movie_basics',\n",
       " 'directors',\n",
       " 'known_for',\n",
       " 'movie_akas',\n",
       " 'movie_ratings',\n",
       " 'persons',\n",
       " 'principals',\n",
       " 'writers']"
      ]
     },
     "execution_count": 23,
     "metadata": {},
     "output_type": "execute_result"
    }
   ],
   "source": []
  },
  {
   "cell_type": "code",
   "execution_count": 53,
   "id": "6a313f40",
   "metadata": {},
   "outputs": [
    {
     "data": {
      "text/html": [
       "<div>\n",
       "<style scoped>\n",
       "    .dataframe tbody tr th:only-of-type {\n",
       "        vertical-align: middle;\n",
       "    }\n",
       "\n",
       "    .dataframe tbody tr th {\n",
       "        vertical-align: top;\n",
       "    }\n",
       "\n",
       "    .dataframe thead th {\n",
       "        text-align: right;\n",
       "    }\n",
       "</style>\n",
       "<table border=\"1\" class=\"dataframe\">\n",
       "  <thead>\n",
       "    <tr style=\"text-align: right;\">\n",
       "      <th></th>\n",
       "      <th>movie_id</th>\n",
       "      <th>person_id</th>\n",
       "    </tr>\n",
       "  </thead>\n",
       "  <tbody>\n",
       "    <tr>\n",
       "      <th>0</th>\n",
       "      <td>tt0285252</td>\n",
       "      <td>nm0899854</td>\n",
       "    </tr>\n",
       "    <tr>\n",
       "      <th>1</th>\n",
       "      <td>tt0438973</td>\n",
       "      <td>nm0175726</td>\n",
       "    </tr>\n",
       "    <tr>\n",
       "      <th>2</th>\n",
       "      <td>tt0438973</td>\n",
       "      <td>nm1802864</td>\n",
       "    </tr>\n",
       "    <tr>\n",
       "      <th>3</th>\n",
       "      <td>tt0462036</td>\n",
       "      <td>nm1940585</td>\n",
       "    </tr>\n",
       "    <tr>\n",
       "      <th>4</th>\n",
       "      <td>tt0835418</td>\n",
       "      <td>nm0310087</td>\n",
       "    </tr>\n",
       "  </tbody>\n",
       "</table>\n",
       "</div>"
      ],
      "text/plain": [
       "    movie_id  person_id\n",
       "0  tt0285252  nm0899854\n",
       "1  tt0438973  nm0175726\n",
       "2  tt0438973  nm1802864\n",
       "3  tt0462036  nm1940585\n",
       "4  tt0835418  nm0310087"
      ]
     },
     "execution_count": 53,
     "metadata": {},
     "output_type": "execute_result"
    }
   ],
   "source": [
    "# Create a dataframe from the master table of our sql database:\n",
    "# Write the query:\n",
    "imdb_query = \"\"\" \n",
    "    SELECT *\n",
    "    FROM sqlite_master\n",
    "\"\"\"\n",
    "# Read the contents of the query into a Pandas dataframe:\n",
    "imdb_df = pd.read_sql(imdb_query, conn)\n",
    "\n",
    "# From the pandas dataframe, iterate through the column \"name\" (all our table names)\n",
    "# Make a list of those table names:\n",
    "table_list = [name for name in imdb_df['name']]\n",
    "\n",
    "def table_to_df(my_table, my_conn):\n",
    "    '''Input is name of database table as a string, output is dataframe'''\n",
    "    my_query = f\"\"\"SELECT * FROM {my_table}\"\"\"\n",
    "    df = pd.read_sql(my_query, my_conn)\n",
    "    return df\n",
    "\n",
    "# Make a dataframe where the keys are the names of the tables, \n",
    "# and the values are pandas dataframes made from those tables:\n",
    "df_tables = {name: pd.DataFrame(data=table_to_df(name,conn)) for name in table_list}\n",
    "\n",
    "# Make dataframe names, prefixed by \"df_\" and then the original table name\n",
    "# Output is \n",
    "for i in range(len(table_list)):\n",
    "    # converts the STRING f\"df_{table_list[i]}\" to a VARIABLE equal to each df in df_tables\n",
    "    exec(f\"df_{table_list[i]}\" + \" = df_tables[table_list[i]]\") \n",
    "    \n",
    "\n",
    "# Lez try out one of our brand-new dfs!!!!!!!!!!!!!!!!!!!!!!!!!!!!!!!!\n",
    "df_writers.head()"
   ]
  },
  {
   "cell_type": "code",
   "execution_count": 51,
   "id": "95ac59ce",
   "metadata": {},
   "outputs": [
    {
     "data": {
      "text/html": [
       "<div>\n",
       "<style scoped>\n",
       "    .dataframe tbody tr th:only-of-type {\n",
       "        vertical-align: middle;\n",
       "    }\n",
       "\n",
       "    .dataframe tbody tr th {\n",
       "        vertical-align: top;\n",
       "    }\n",
       "\n",
       "    .dataframe thead th {\n",
       "        text-align: right;\n",
       "    }\n",
       "</style>\n",
       "<table border=\"1\" class=\"dataframe\">\n",
       "  <thead>\n",
       "    <tr style=\"text-align: right;\">\n",
       "      <th></th>\n",
       "      <th>movie_id</th>\n",
       "      <th>person_id</th>\n",
       "    </tr>\n",
       "  </thead>\n",
       "  <tbody>\n",
       "    <tr>\n",
       "      <th>0</th>\n",
       "      <td>tt0285252</td>\n",
       "      <td>nm0899854</td>\n",
       "    </tr>\n",
       "    <tr>\n",
       "      <th>1</th>\n",
       "      <td>tt0438973</td>\n",
       "      <td>nm0175726</td>\n",
       "    </tr>\n",
       "    <tr>\n",
       "      <th>2</th>\n",
       "      <td>tt0438973</td>\n",
       "      <td>nm1802864</td>\n",
       "    </tr>\n",
       "    <tr>\n",
       "      <th>3</th>\n",
       "      <td>tt0462036</td>\n",
       "      <td>nm1940585</td>\n",
       "    </tr>\n",
       "    <tr>\n",
       "      <th>4</th>\n",
       "      <td>tt0835418</td>\n",
       "      <td>nm0310087</td>\n",
       "    </tr>\n",
       "  </tbody>\n",
       "</table>\n",
       "</div>"
      ],
      "text/plain": [
       "    movie_id  person_id\n",
       "0  tt0285252  nm0899854\n",
       "1  tt0438973  nm0175726\n",
       "2  tt0438973  nm1802864\n",
       "3  tt0462036  nm1940585\n",
       "4  tt0835418  nm0310087"
      ]
     },
     "execution_count": 51,
     "metadata": {},
     "output_type": "execute_result"
    }
   ],
   "source": [
    "\"\"\"\n",
    "df_movie_basics\n",
    "df_directors\n",
    "df_known_for\n",
    "df_movie_akas\n",
    "df_movie_ratings\n",
    "df_persons\n",
    "df_principals\n",
    "df_writers\n",
    "\"\"\"\n",
    "df_writers.head()"
   ]
  },
  {
   "cell_type": "code",
   "execution_count": 35,
   "id": "2d0c106d",
   "metadata": {},
   "outputs": [
    {
     "ename": "NameError",
     "evalue": "name 'movie_basics' is not defined",
     "output_type": "error",
     "traceback": [
      "\u001b[0;31m---------------------------------------------------------------------------\u001b[0m",
      "\u001b[0;31mNameError\u001b[0m                                 Traceback (most recent call last)",
      "\u001b[0;32m<ipython-input-35-26b7d302489f>\u001b[0m in \u001b[0;36m<module>\u001b[0;34m\u001b[0m\n\u001b[0;32m----> 1\u001b[0;31m \u001b[0mmovie_basics\u001b[0m\u001b[0;34m\u001b[0m\u001b[0;34m\u001b[0m\u001b[0m\n\u001b[0m",
      "\u001b[0;31mNameError\u001b[0m: name 'movie_basics' is not defined"
     ]
    }
   ],
   "source": [
    "movie_basics"
   ]
  },
  {
   "cell_type": "code",
   "execution_count": 10,
   "id": "7ac18720",
   "metadata": {
    "scrolled": false
   },
   "outputs": [
    {
     "data": {
      "text/html": [
       "<div>\n",
       "<style scoped>\n",
       "    .dataframe tbody tr th:only-of-type {\n",
       "        vertical-align: middle;\n",
       "    }\n",
       "\n",
       "    .dataframe tbody tr th {\n",
       "        vertical-align: top;\n",
       "    }\n",
       "\n",
       "    .dataframe thead th {\n",
       "        text-align: right;\n",
       "    }\n",
       "</style>\n",
       "<table border=\"1\" class=\"dataframe\">\n",
       "  <thead>\n",
       "    <tr style=\"text-align: right;\">\n",
       "      <th></th>\n",
       "      <th>person_id</th>\n",
       "      <th>primary_name</th>\n",
       "      <th>birth_year</th>\n",
       "      <th>death_year</th>\n",
       "      <th>primary_profession</th>\n",
       "    </tr>\n",
       "  </thead>\n",
       "  <tbody>\n",
       "    <tr>\n",
       "      <th>0</th>\n",
       "      <td>nm0061671</td>\n",
       "      <td>Mary Ellen Bauder</td>\n",
       "      <td>NaN</td>\n",
       "      <td>NaN</td>\n",
       "      <td>miscellaneous,production_manager,producer</td>\n",
       "    </tr>\n",
       "    <tr>\n",
       "      <th>1</th>\n",
       "      <td>nm0061865</td>\n",
       "      <td>Joseph Bauer</td>\n",
       "      <td>NaN</td>\n",
       "      <td>NaN</td>\n",
       "      <td>composer,music_department,sound_department</td>\n",
       "    </tr>\n",
       "    <tr>\n",
       "      <th>2</th>\n",
       "      <td>nm0062070</td>\n",
       "      <td>Bruce Baum</td>\n",
       "      <td>NaN</td>\n",
       "      <td>NaN</td>\n",
       "      <td>miscellaneous,actor,writer</td>\n",
       "    </tr>\n",
       "    <tr>\n",
       "      <th>3</th>\n",
       "      <td>nm0062195</td>\n",
       "      <td>Axel Baumann</td>\n",
       "      <td>NaN</td>\n",
       "      <td>NaN</td>\n",
       "      <td>camera_department,cinematographer,art_department</td>\n",
       "    </tr>\n",
       "    <tr>\n",
       "      <th>4</th>\n",
       "      <td>nm0062798</td>\n",
       "      <td>Pete Baxter</td>\n",
       "      <td>NaN</td>\n",
       "      <td>NaN</td>\n",
       "      <td>production_designer,art_department,set_decorator</td>\n",
       "    </tr>\n",
       "  </tbody>\n",
       "</table>\n",
       "</div>"
      ],
      "text/plain": [
       "   person_id       primary_name  birth_year  death_year  \\\n",
       "0  nm0061671  Mary Ellen Bauder         NaN         NaN   \n",
       "1  nm0061865       Joseph Bauer         NaN         NaN   \n",
       "2  nm0062070         Bruce Baum         NaN         NaN   \n",
       "3  nm0062195       Axel Baumann         NaN         NaN   \n",
       "4  nm0062798        Pete Baxter         NaN         NaN   \n",
       "\n",
       "                                 primary_profession  \n",
       "0         miscellaneous,production_manager,producer  \n",
       "1        composer,music_department,sound_department  \n",
       "2                        miscellaneous,actor,writer  \n",
       "3  camera_department,cinematographer,art_department  \n",
       "4  production_designer,art_department,set_decorator  "
      ]
     },
     "execution_count": 10,
     "metadata": {},
     "output_type": "execute_result"
    }
   ],
   "source": [
    "# Connecting to Persons Table\n",
    "\n",
    "persons_query = \"\"\" \n",
    "    SELECT *\n",
    "    FROM persons\n",
    "\"\"\"\n",
    "persons_df = pd.read_sql(persons_query, conn)\n",
    "persons_df.head()"
   ]
  },
  {
   "cell_type": "code",
   "execution_count": null,
   "id": "852f4a3b",
   "metadata": {
    "scrolled": true
   },
   "outputs": [],
   "source": [
    "# Connecting to Persons Table\n",
    "\n",
    "principals_query = \"\"\" \n",
    "    SELECT *\n",
    "    FROM principals\n",
    "\"\"\"\n",
    "principals_df = pd.read_sql(principals_query, conn)\n",
    "principals_df.head()"
   ]
  },
  {
   "cell_type": "code",
   "execution_count": null,
   "id": "65dd1918",
   "metadata": {},
   "outputs": [],
   "source": [
    "# Connecting to Known_For Table\n",
    "\n",
    "known_for_query = \"\"\" \n",
    "    SELECT *\n",
    "    FROM known_for\n",
    "\"\"\"\n",
    "known_for_df = pd.read_sql(known_for_query, conn)\n",
    "known_for_df.head()"
   ]
  },
  {
   "cell_type": "code",
   "execution_count": null,
   "id": "e1a4a5f3",
   "metadata": {},
   "outputs": [],
   "source": [
    "# Connecting to Movie Basics Table\n",
    "\n",
    "movie_basics_query = \"\"\" \n",
    "    SELECT *\n",
    "    FROM movie_basics\n",
    "\"\"\"\n",
    "movie_basics_df = pd.read_sql(movie_basics_query, conn)\n",
    "movie_basics_df.head()"
   ]
  },
  {
   "cell_type": "code",
   "execution_count": null,
   "id": "d8253c73",
   "metadata": {
    "scrolled": false
   },
   "outputs": [],
   "source": [
    "# Connecting to Movie Ratings Table\n",
    "\n",
    "movie_ratings_query = \"\"\" \n",
    "    SELECT *\n",
    "    FROM movie_ratings\n",
    "\"\"\"\n",
    "movie_ratings_df = pd.read_sql(movie_ratings_query, conn)\n",
    "movie_ratings_df"
   ]
  },
  {
   "cell_type": "code",
   "execution_count": 27,
   "id": "ddef2d2a",
   "metadata": {},
   "outputs": [],
   "source": [
    "movie_ratings_query = \"\"\" \n",
    "    SELECT *\n",
    "    FROM movie_ratings\n",
    "    JOIN movie_basics\n",
    "    \n",
    "\"\"\"\n",
    "movie_ratings_df = pd.read_sql(movie_ratings_query, conn)\n",
    "movie_ratings_df"
   ]
  },
  {
   "cell_type": "code",
   "execution_count": null,
   "id": "5312df5d",
   "metadata": {
    "scrolled": true
   },
   "outputs": [],
   "source": [
    "# Connecting to Movie Akas Table\n",
    "\n",
    "movie_akas_query = \"\"\" \n",
    "    SELECT *\n",
    "    FROM movie_akas\n",
    "\"\"\"\n",
    "movie_akas_df = pd.read_sql(movie_akas_query, conn)\n",
    "movie_akas_df.head()"
   ]
  },
  {
   "cell_type": "code",
   "execution_count": null,
   "id": "4da2137e",
   "metadata": {},
   "outputs": [],
   "source": [
    "# Make function to clean up column names\n",
    "    # Title\n",
    "    # Change underscore to space\n",
    "    # In place "
   ]
  },
  {
   "cell_type": "code",
   "execution_count": null,
   "id": "7b9db3c9",
   "metadata": {},
   "outputs": [],
   "source": [
    "# Make function to split up comma seperated values to become a set or list\n",
    "    # will help easily do IN"
   ]
  },
  {
   "cell_type": "code",
   "execution_count": null,
   "id": "985570a5",
   "metadata": {},
   "outputs": [],
   "source": [
    "# profitability\n",
    "# ratings * number_of_people\n",
    "\n"
   ]
  }
 ],
 "metadata": {
  "kernelspec": {
   "display_name": "learn-env",
   "language": "python",
   "name": "python3"
  },
  "language_info": {
   "codemirror_mode": {
    "name": "ipython",
    "version": 3
   },
   "file_extension": ".py",
   "mimetype": "text/x-python",
   "name": "python",
   "nbconvert_exporter": "python",
   "pygments_lexer": "ipython3",
   "version": "3.8.5"
  }
 },
 "nbformat": 4,
 "nbformat_minor": 5
}
