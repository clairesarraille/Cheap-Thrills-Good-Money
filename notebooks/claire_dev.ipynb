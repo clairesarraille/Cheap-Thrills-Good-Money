{
 "cells": [
  {
   "cell_type": "code",
   "execution_count": 57,
   "id": "3badb322",
   "metadata": {},
   "outputs": [],
   "source": [
    "import pandas as pd\n",
    "import sqlite3\n"
   ]
  },
  {
   "cell_type": "code",
   "execution_count": 58,
   "id": "fb9f450d",
   "metadata": {},
   "outputs": [],
   "source": [
    "file_path = '/Users/claire/git/flatiron/phase_02/finalproject/DSC-Phase2-Project2/unzippedData/im.db'\n",
    "conn = sqlite3.connect(file_path)\n"
   ]
  },
  {
   "cell_type": "code",
   "execution_count": 59,
   "id": "2a405fbe",
   "metadata": {
    "scrolled": true
   },
   "outputs": [
    {
     "name": "stdout",
     "output_type": "stream",
     "text": [
      "bom.movie_gross.csv.gz  rt.movie_info.tsv.gz    tn.movie_budgets.csv.gz\n",
      "im.db                   rt.reviews.tsv.gz\n",
      "im.db.zip               tmdb.movies.csv.gz\n"
     ]
    }
   ],
   "source": [
    "! ls ../unzippedData"
   ]
  },
  {
   "cell_type": "code",
   "execution_count": 60,
   "id": "e0b3771e",
   "metadata": {},
   "outputs": [],
   "source": [
    "cursor = conn.cursor()"
   ]
  },
  {
   "cell_type": "markdown",
   "id": "7151c854",
   "metadata": {},
   "source": [
    "![Image of ERD Diagram IMDB](https://raw.githubusercontent.com/learn-co-curriculum/dsc-phase-2-project-v3/main/movie_data_erd.jpeg)\n"
   ]
  },
  {
   "cell_type": "code",
   "execution_count": 61,
   "id": "6a313f40",
   "metadata": {},
   "outputs": [
    {
     "data": {
      "text/html": [
       "<div>\n",
       "<style scoped>\n",
       "    .dataframe tbody tr th:only-of-type {\n",
       "        vertical-align: middle;\n",
       "    }\n",
       "\n",
       "    .dataframe tbody tr th {\n",
       "        vertical-align: top;\n",
       "    }\n",
       "\n",
       "    .dataframe thead th {\n",
       "        text-align: right;\n",
       "    }\n",
       "</style>\n",
       "<table border=\"1\" class=\"dataframe\">\n",
       "  <thead>\n",
       "    <tr style=\"text-align: right;\">\n",
       "      <th></th>\n",
       "      <th>movie_id</th>\n",
       "      <th>person_id</th>\n",
       "    </tr>\n",
       "  </thead>\n",
       "  <tbody>\n",
       "    <tr>\n",
       "      <th>0</th>\n",
       "      <td>tt0285252</td>\n",
       "      <td>nm0899854</td>\n",
       "    </tr>\n",
       "    <tr>\n",
       "      <th>1</th>\n",
       "      <td>tt0438973</td>\n",
       "      <td>nm0175726</td>\n",
       "    </tr>\n",
       "    <tr>\n",
       "      <th>2</th>\n",
       "      <td>tt0438973</td>\n",
       "      <td>nm1802864</td>\n",
       "    </tr>\n",
       "    <tr>\n",
       "      <th>3</th>\n",
       "      <td>tt0462036</td>\n",
       "      <td>nm1940585</td>\n",
       "    </tr>\n",
       "    <tr>\n",
       "      <th>4</th>\n",
       "      <td>tt0835418</td>\n",
       "      <td>nm0310087</td>\n",
       "    </tr>\n",
       "  </tbody>\n",
       "</table>\n",
       "</div>"
      ],
      "text/plain": [
       "    movie_id  person_id\n",
       "0  tt0285252  nm0899854\n",
       "1  tt0438973  nm0175726\n",
       "2  tt0438973  nm1802864\n",
       "3  tt0462036  nm1940585\n",
       "4  tt0835418  nm0310087"
      ]
     },
     "execution_count": 61,
     "metadata": {},
     "output_type": "execute_result"
    }
   ],
   "source": [
    "# Create a dataframe from the master table of our sql database:\n",
    "# Write the query:\n",
    "imdb_query = \"\"\" \n",
    "    SELECT *\n",
    "    FROM sqlite_master\n",
    "\"\"\"\n",
    "# Read the contents of the query into a Pandas dataframe:\n",
    "imdb_df = pd.read_sql(imdb_query, conn)\n",
    "\n",
    "# From the pandas dataframe, iterate through the column \"name\" (all our table names)\n",
    "# Make a list of those table names:\n",
    "table_list = [name for name in imdb_df['name']]\n",
    "\n",
    "def table_to_df(my_table, my_conn):\n",
    "    '''Input is name of database table as a string, output is dataframe'''\n",
    "    my_query = f\"\"\"SELECT * FROM {my_table}\"\"\"\n",
    "    df = pd.read_sql(my_query, my_conn)\n",
    "    return df\n",
    "\n",
    "# Make a dataframe where the keys are the names of the tables, \n",
    "# and the values are pandas dataframes made from those tables:\n",
    "dict_tables = {name: pd.DataFrame(data=table_to_df(name,conn)) for name in table_list}\n",
    "\n",
    "# Make dataframe names, prefixed by \"df_\" and then the original table name\n",
    "# Output is \n",
    "for i in range(len(table_list)):\n",
    "    # converts the STRING f\"df_{table_list[i]}\" to a VARIABLE equal to each df in df_tables\n",
    "    exec(f\"{table_list[i]}_df\" + \" = dict_tables[table_list[i]]\") \n",
    "    \n",
    "\n",
    "# Lez try out one of our brand-new dfs!!!!!!!!!!!!!!!!!!!!!!!!!!!!!!!!\n",
    "writers_df.head()"
   ]
  },
  {
   "cell_type": "code",
   "execution_count": 62,
   "id": "95ac59ce",
   "metadata": {},
   "outputs": [
    {
     "data": {
      "text/html": [
       "<div>\n",
       "<style scoped>\n",
       "    .dataframe tbody tr th:only-of-type {\n",
       "        vertical-align: middle;\n",
       "    }\n",
       "\n",
       "    .dataframe tbody tr th {\n",
       "        vertical-align: top;\n",
       "    }\n",
       "\n",
       "    .dataframe thead th {\n",
       "        text-align: right;\n",
       "    }\n",
       "</style>\n",
       "<table border=\"1\" class=\"dataframe\">\n",
       "  <thead>\n",
       "    <tr style=\"text-align: right;\">\n",
       "      <th></th>\n",
       "      <th>movie_id</th>\n",
       "      <th>person_id</th>\n",
       "    </tr>\n",
       "  </thead>\n",
       "  <tbody>\n",
       "    <tr>\n",
       "      <th>0</th>\n",
       "      <td>tt0285252</td>\n",
       "      <td>nm0899854</td>\n",
       "    </tr>\n",
       "    <tr>\n",
       "      <th>1</th>\n",
       "      <td>tt0438973</td>\n",
       "      <td>nm0175726</td>\n",
       "    </tr>\n",
       "    <tr>\n",
       "      <th>2</th>\n",
       "      <td>tt0438973</td>\n",
       "      <td>nm1802864</td>\n",
       "    </tr>\n",
       "    <tr>\n",
       "      <th>3</th>\n",
       "      <td>tt0462036</td>\n",
       "      <td>nm1940585</td>\n",
       "    </tr>\n",
       "    <tr>\n",
       "      <th>4</th>\n",
       "      <td>tt0835418</td>\n",
       "      <td>nm0310087</td>\n",
       "    </tr>\n",
       "  </tbody>\n",
       "</table>\n",
       "</div>"
      ],
      "text/plain": [
       "    movie_id  person_id\n",
       "0  tt0285252  nm0899854\n",
       "1  tt0438973  nm0175726\n",
       "2  tt0438973  nm1802864\n",
       "3  tt0462036  nm1940585\n",
       "4  tt0835418  nm0310087"
      ]
     },
     "execution_count": 62,
     "metadata": {},
     "output_type": "execute_result"
    }
   ],
   "source": [
    "\"\"\"\n",
    "movie_basics_df\n",
    "directors_df\n",
    "known_for_df\n",
    "movie_akas_df\n",
    "movie_ratings_df\n",
    "persons_df\n",
    "principals_df\n",
    "writers_df\n",
    "\"\"\"\n",
    "df_writers.head()"
   ]
  },
  {
   "cell_type": "code",
   "execution_count": 63,
   "id": "4da2137e",
   "metadata": {},
   "outputs": [],
   "source": [
    "# Make function to clean up column names\n",
    "    # Title\n",
    "    # Change underscore to space\n",
    "    # In place "
   ]
  },
  {
   "cell_type": "code",
   "execution_count": 64,
   "id": "7b9db3c9",
   "metadata": {},
   "outputs": [],
   "source": [
    "# Make function to split up comma seperated values to become a set or list\n",
    "    # will help easily do IN"
   ]
  },
  {
   "cell_type": "code",
   "execution_count": 65,
   "id": "985570a5",
   "metadata": {},
   "outputs": [],
   "source": [
    "# when we're looking at how much they spent vs made -- make a score based on budget to revenue\n",
    "    # How much did they put in, versus how much they put out.\n",
    "\n",
    "\n",
    "# Gross Total:\n",
    "    # \n",
    "\n",
    "# profitability -- maybe set a lower boundary\n",
    "    # gross - budget\n",
    "\n",
    "# Blockbursters + Indie?\n",
    "\n",
    "# When we reccommend an indie film we expect less profability, and less people rating it\n",
    "\n",
    "# Ratings\n",
    "    # ratings * number_of_people\n",
    "\n"
   ]
  }
 ],
 "metadata": {
  "kernelspec": {
   "display_name": "learn-env",
   "language": "python",
   "name": "python3"
  },
  "language_info": {
   "codemirror_mode": {
    "name": "ipython",
    "version": 3
   },
   "file_extension": ".py",
   "mimetype": "text/x-python",
   "name": "python",
   "nbconvert_exporter": "python",
   "pygments_lexer": "ipython3",
   "version": "3.8.5"
  }
 },
 "nbformat": 4,
 "nbformat_minor": 5
}
