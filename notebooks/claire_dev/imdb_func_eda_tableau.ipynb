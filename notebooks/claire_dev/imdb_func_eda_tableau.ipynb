{
 "cells": [
  {
   "cell_type": "code",
   "execution_count": 1,
   "id": "3badb322",
   "metadata": {},
   "outputs": [],
   "source": [
    "import pandas as pd\n",
    "import sqlite3\n",
    "import matplotlib.pyplot as plt\n",
    "import numpy as np\n",
    "%matplotlib inline\n"
   ]
  },
  {
   "cell_type": "code",
   "execution_count": 2,
   "id": "39eb692a",
   "metadata": {},
   "outputs": [],
   "source": [
    "def clean_column_headers(dataframe):\n",
    "    dataframe.columns = dataframe.columns.str.title()\n",
    "    dataframe.columns = dataframe.columns.str.replace(\"_\", \" \")\n",
    "    return dataframe"
   ]
  },
  {
   "cell_type": "code",
   "execution_count": 3,
   "id": "e36dc55a",
   "metadata": {},
   "outputs": [],
   "source": [
    "# Function for cleaning comma seperated string values of a series into list of strings. Accepts one series.\n",
    "\n",
    "def clean_comma_series(Series):\n",
    "    Series = Series.str.replace(\"_\", \" \")\n",
    "    Series = Series.str.title()\n",
    "    Series = Series.str.split(\",\")\n",
    "    return Series"
   ]
  },
  {
   "cell_type": "code",
   "execution_count": 4,
   "id": "fb9f450d",
   "metadata": {},
   "outputs": [],
   "source": [
    "file_path = '/Users/claire/git/flatiron/phase_02/finalproject/DSC-Phase2-Project2/unzippedData/im.db'\n",
    "conn = sqlite3.connect(file_path)\n"
   ]
  },
  {
   "cell_type": "code",
   "execution_count": 5,
   "id": "2a405fbe",
   "metadata": {
    "scrolled": true
   },
   "outputs": [
    {
     "name": "stdout",
     "output_type": "stream",
     "text": [
      "ls: ../unzippedData: No such file or directory\n"
     ]
    }
   ],
   "source": [
    "! ls ../unzippedData"
   ]
  },
  {
   "cell_type": "code",
   "execution_count": 6,
   "id": "e0b3771e",
   "metadata": {},
   "outputs": [],
   "source": [
    "cursor = conn.cursor()"
   ]
  },
  {
   "cell_type": "markdown",
   "id": "7151c854",
   "metadata": {},
   "source": [
    "![Image of ERD Diagram IMDB](https://raw.githubusercontent.com/learn-co-curriculum/dsc-phase-2-project-v3/main/movie_data_erd.jpeg)\n"
   ]
  },
  {
   "cell_type": "code",
   "execution_count": 9,
   "id": "6a313f40",
   "metadata": {},
   "outputs": [
    {
     "data": {
      "text/plain": [
       "'\\nmovie_basics_df\\ndirectors_df\\nknown_for_df\\nmovie_akas_df\\nmovie_ratings_df\\npersons_df\\nprincipals_df\\nwriters_df\\n'"
      ]
     },
     "execution_count": 9,
     "metadata": {},
     "output_type": "execute_result"
    }
   ],
   "source": [
    "# Create a dataframe from the master table of our sql database:\n",
    "# Write the query:\n",
    "imdb_query = \"\"\" \n",
    "    SELECT *\n",
    "    FROM sqlite_master\n",
    "\"\"\"\n",
    "# Read the contents of the query into a Pandas dataframe:\n",
    "imdb_df = pd.read_sql(imdb_query, conn)\n",
    "\n",
    "# From the pandas dataframe, iterate through the column \"name\" (all our table names)\n",
    "# Make a list of those table names:\n",
    "table_list = [name for name in imdb_df['name']]\n",
    "\n",
    "def table_to_df(my_table, my_conn):\n",
    "    '''Input is name of database table as a string, output is dataframe'''\n",
    "    my_query = f\"\"\"SELECT * FROM {my_table}\"\"\"\n",
    "    df = pd.read_sql(my_query, my_conn)\n",
    "    return df\n",
    "\n",
    "# Make a dataframe where the keys are the names of the tables, \n",
    "# and the values are pandas dataframes made from those tables:\n",
    "dict_tables = {name: pd.DataFrame(data=table_to_df(name,conn)) for name in table_list}\n",
    "\n",
    "# Make dataframe names, prefixed by \"df_\" and then the original table name\n",
    "# Output is \n",
    "for i in range(len(table_list)):\n",
    "    # converts the STRING f\"df_{table_list[i]}\" to a VARIABLE equal to each df in df_tables\n",
    "    exec(f\"{table_list[i]}_df\" + \" = dict_tables[table_list[i]]\") \n",
    "    \n",
    "\n",
    "# Lez try out one of our brand-new dfs!!!!!!!!!!!!!!!!!!!!!!!!!!!!!!!!\n",
    "#writers_df.head()\n",
    "\n",
    "####### We now have these dataframes:\n",
    "\"\"\"\n",
    "movie_basics_df\n",
    "directors_df\n",
    "known_for_df\n",
    "movie_akas_df\n",
    "movie_ratings_df\n",
    "persons_df\n",
    "principals_df\n",
    "writers_df\n",
    "\"\"\""
   ]
  },
  {
   "cell_type": "code",
   "execution_count": 16,
   "id": "03e7b42c",
   "metadata": {},
   "outputs": [],
   "source": [
    "# Export Pandas dataframes to Tableau:\n",
    "movie_basics_df.to_csv('/Users/claire/git/flatiron/phase_02/finalproject/DSC-Phase2-Project2/tableau_files/movie_basics.csv')\n",
    "directors_df.to_csv('/Users/claire/git/flatiron/phase_02/finalproject/DSC-Phase2-Project2/tableau_files/directors.csv')\n",
    "known_for_df.to_csv('/Users/claire/git/flatiron/phase_02/finalproject/DSC-Phase2-Project2/tableau_files/known_for.csv')\n",
    "movie_akas_df.to_csv('/Users/claire/git/flatiron/phase_02/finalproject/DSC-Phase2-Project2/tableau_files/movie_akas.csv')\n",
    "movie_ratings_df.to_csv('/Users/claire/git/flatiron/phase_02/finalproject/DSC-Phase2-Project2/tableau_files/movie_ratings.csv')\n",
    "persons_df.to_csv('/Users/claire/git/flatiron/phase_02/finalproject/DSC-Phase2-Project2/tableau_files/persons.csv')\n",
    "principals_df.to_csv('/Users/claire/git/flatiron/phase_02/finalproject/DSC-Phase2-Project2/tableau_files/principles.csv')\n",
    "writers_df.to_csv('/Users/claire/git/flatiron/phase_02/finalproject/DSC-Phase2-Project2/tableau_files/writers.csv')"
   ]
  },
  {
   "cell_type": "code",
   "execution_count": 25,
   "id": "265e484a",
   "metadata": {},
   "outputs": [
    {
     "data": {
      "text/html": [
       "<div>\n",
       "<style scoped>\n",
       "    .dataframe tbody tr th:only-of-type {\n",
       "        vertical-align: middle;\n",
       "    }\n",
       "\n",
       "    .dataframe tbody tr th {\n",
       "        vertical-align: top;\n",
       "    }\n",
       "\n",
       "    .dataframe thead th {\n",
       "        text-align: right;\n",
       "    }\n",
       "</style>\n",
       "<table border=\"1\" class=\"dataframe\">\n",
       "  <thead>\n",
       "    <tr style=\"text-align: right;\">\n",
       "      <th></th>\n",
       "      <th>movie_id</th>\n",
       "      <th>person_id</th>\n",
       "    </tr>\n",
       "  </thead>\n",
       "  <tbody>\n",
       "    <tr>\n",
       "      <th>0</th>\n",
       "      <td>tt0285252</td>\n",
       "      <td>nm0899854</td>\n",
       "    </tr>\n",
       "    <tr>\n",
       "      <th>1</th>\n",
       "      <td>tt0462036</td>\n",
       "      <td>nm1940585</td>\n",
       "    </tr>\n",
       "    <tr>\n",
       "      <th>2</th>\n",
       "      <td>tt0835418</td>\n",
       "      <td>nm0151540</td>\n",
       "    </tr>\n",
       "    <tr>\n",
       "      <th>3</th>\n",
       "      <td>tt0835418</td>\n",
       "      <td>nm0151540</td>\n",
       "    </tr>\n",
       "    <tr>\n",
       "      <th>4</th>\n",
       "      <td>tt0878654</td>\n",
       "      <td>nm0089502</td>\n",
       "    </tr>\n",
       "  </tbody>\n",
       "</table>\n",
       "</div>"
      ],
      "text/plain": [
       "    movie_id  person_id\n",
       "0  tt0285252  nm0899854\n",
       "1  tt0462036  nm1940585\n",
       "2  tt0835418  nm0151540\n",
       "3  tt0835418  nm0151540\n",
       "4  tt0878654  nm0089502"
      ]
     },
     "execution_count": 25,
     "metadata": {},
     "output_type": "execute_result"
    }
   ],
   "source": [
    "directors_df.head()"
   ]
  },
  {
   "cell_type": "code",
   "execution_count": null,
   "id": "62dc8479",
   "metadata": {},
   "outputs": [],
   "source": []
  }
 ],
 "metadata": {
  "kernelspec": {
   "display_name": "learn-env",
   "language": "python",
   "name": "python3"
  },
  "language_info": {
   "codemirror_mode": {
    "name": "ipython",
    "version": 3
   },
   "file_extension": ".py",
   "mimetype": "text/x-python",
   "name": "python",
   "nbconvert_exporter": "python",
   "pygments_lexer": "ipython3",
   "version": "3.8.5"
  }
 },
 "nbformat": 4,
 "nbformat_minor": 5
}
