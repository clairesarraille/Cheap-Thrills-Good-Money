{
 "cells": [
  {
   "cell_type": "code",
   "execution_count": 1,
   "metadata": {},
   "outputs": [],
   "source": [
    "import pandas as pd\n",
    "import sqlite3\n",
    "import matplotlib.pyplot as plt\n",
    "import numpy as np\n",
    "%matplotlib inline\n"
   ]
  },
  {
   "cell_type": "code",
   "execution_count": 2,
   "metadata": {},
   "outputs": [
    {
     "ename": "OperationalError",
     "evalue": "unable to open database file",
     "output_type": "error",
     "traceback": [
      "\u001b[0;31m---------------------------------------------------------------------------\u001b[0m",
      "\u001b[0;31mOperationalError\u001b[0m                          Traceback (most recent call last)",
      "\u001b[0;32m<ipython-input-2-074f94c7dc8b>\u001b[0m in \u001b[0;36m<module>\u001b[0;34m\u001b[0m\n\u001b[1;32m      1\u001b[0m \u001b[0mfile_path\u001b[0m \u001b[0;34m=\u001b[0m \u001b[0;34m'/Users/claire/git/flatiron/phase_02/finalproject/DSC-Phase2-Project2/unzippedData/im.db'\u001b[0m\u001b[0;34m\u001b[0m\u001b[0;34m\u001b[0m\u001b[0m\n\u001b[0;32m----> 2\u001b[0;31m \u001b[0mconn\u001b[0m \u001b[0;34m=\u001b[0m \u001b[0msqlite3\u001b[0m\u001b[0;34m.\u001b[0m\u001b[0mconnect\u001b[0m\u001b[0;34m(\u001b[0m\u001b[0mfile_path\u001b[0m\u001b[0;34m)\u001b[0m\u001b[0;34m\u001b[0m\u001b[0;34m\u001b[0m\u001b[0m\n\u001b[0m",
      "\u001b[0;31mOperationalError\u001b[0m: unable to open database file"
     ]
    }
   ],
   "source": [
    "file_path = '/Users/claire/git/flatiron/phase_02/finalproject/DSC-Phase2-Project2/unzippedData/im.db'\n",
    "conn = sqlite3.connect(file_path)\n"
   ]
  },
  {
   "cell_type": "code",
   "execution_count": null,
   "metadata": {
    "scrolled": true
   },
   "outputs": [],
   "source": [
    "! ls ../unzippedData"
   ]
  },
  {
   "cell_type": "code",
   "execution_count": null,
   "metadata": {},
   "outputs": [],
   "source": [
    "cursor = conn.cursor()"
   ]
  },
  {
   "cell_type": "markdown",
   "metadata": {},
   "source": [
    "![Image of ERD Diagram IMDB](https://raw.githubusercontent.com/learn-co-curriculum/dsc-phase-2-project-v3/main/movie_data_erd.jpeg)\n"
   ]
  },
  {
   "cell_type": "code",
   "execution_count": null,
   "metadata": {},
   "outputs": [],
   "source": [
    "# Create a dataframe from the master table of our sql database:\n",
    "# Write the query:\n",
    "imdb_query = \"\"\" \n",
    "    SELECT *\n",
    "    FROM sqlite_master\n",
    "\"\"\"\n",
    "# Read the contents of the query into a Pandas dataframe:\n",
    "imdb_df = pd.read_sql(imdb_query, conn)\n",
    "\n",
    "# From the pandas dataframe, iterate through the column \"name\" (all our table names)\n",
    "# Make a list of those table names:\n",
    "table_list = [name for name in imdb_df['name']]\n",
    "\n",
    "def table_to_df(my_table, my_conn):\n",
    "    '''Input is name of database table as a string, output is dataframe'''\n",
    "    my_query = f\"\"\"SELECT * FROM {my_table}\"\"\"\n",
    "    df = pd.read_sql(my_query, my_conn)\n",
    "    return df\n",
    "\n",
    "# Make a dataframe where the keys are the names of the tables, \n",
    "# and the values are pandas dataframes made from those tables:\n",
    "dict_tables = {name: pd.DataFrame(data=table_to_df(name,conn)) for name in table_list}\n",
    "\n",
    "# Make dataframe names, prefixed by \"df_\" and then the original table name\n",
    "# Output is \n",
    "for i in range(len(table_list)):\n",
    "    # converts the STRING f\"df_{table_list[i]}\" to a VARIABLE equal to each df in df_tables\n",
    "    exec(f\"{table_list[i]}_df\" + \" = dict_tables[table_list[i]]\") \n",
    "    \n",
    "\n",
    "# Lez try out one of our brand-new dfs!!!!!!!!!!!!!!!!!!!!!!!!!!!!!!!!\n",
    "#writers_df.head()\n",
    "\n",
    "####### We now have these dataframes:\n",
    "\"\"\"\n",
    "movie_basics_df\n",
    "directors_df\n",
    "known_for_df\n",
    "movie_akas_df\n",
    "movie_ratings_df\n",
    "persons_df\n",
    "principals_df\n",
    "writers_df\n",
    "\"\"\""
   ]
  },
  {
   "cell_type": "code",
   "execution_count": null,
   "metadata": {},
   "outputs": [],
   "source": [
    "# Export Pandas dataframes to CSV:\n",
    "\n",
    "### Used for Tableau Analysis:\n",
    "#directors_df.to_csv('../../csv_exports_for_tableau/directors.csv')\n",
    "#persons_df.to_csv('../../csv_exports_for_tableau/persons.csv')\n",
    "#movie_basics_df.to_csv('../../csv_exports_for_tableau/movie_basics.csv')\n"
   ]
  },
  {
   "cell_type": "code",
   "execution_count": null,
   "metadata": {},
   "outputs": [],
   "source": [
    "# Bring in movie_risk_NO_genre\n",
    "movie_risk_NO_genre = pd.read_csv('../../csv_exports_for_tableau/movie_risk_NO_genre.csv')"
   ]
  },
  {
   "cell_type": "code",
   "execution_count": null,
   "metadata": {},
   "outputs": [],
   "source": [
    "movie_risk_NO_genre['movie_id'] = movie_risk_NO_genre['Movie ID'] "
   ]
  },
  {
   "cell_type": "code",
   "execution_count": null,
   "metadata": {},
   "outputs": [],
   "source": [
    "movie_risk_NO_genre.head()"
   ]
  },
  {
   "cell_type": "code",
   "execution_count": null,
   "metadata": {},
   "outputs": [],
   "source": [
    "movie_basics_df.head()"
   ]
  },
  {
   "cell_type": "code",
   "execution_count": null,
   "metadata": {},
   "outputs": [],
   "source": [
    "# Use the imported movie_risk_NO_genre as a filter for movie_basics_df:\n",
    "movie_risk_genre = movie_risk_NO_genre.merge(movie_basics_df, on = 'movie_id', how='left')"
   ]
  },
  {
   "cell_type": "code",
   "execution_count": null,
   "metadata": {},
   "outputs": [],
   "source": [
    "movie_risk_genre.head()"
   ]
  },
  {
   "cell_type": "code",
   "execution_count": null,
   "metadata": {},
   "outputs": [],
   "source": [
    "movie_risk_genre = movie_risk_genre.drop('Movie ID', axis=1)"
   ]
  },
  {
   "cell_type": "code",
   "execution_count": null,
   "metadata": {},
   "outputs": [],
   "source": [
    "movie_risk_genre_director = movie_risk_genre.merge(directors_df, on = 'movie_id', how='left')\n",
    "#movie_risk_genre_director = directors_df.merge(movie_risk_genre, on = 'movie_id', how='left')"
   ]
  },
  {
   "cell_type": "code",
   "execution_count": null,
   "metadata": {},
   "outputs": [],
   "source": [
    "movie_risk_genre_director.head()"
   ]
  },
  {
   "cell_type": "code",
   "execution_count": null,
   "metadata": {},
   "outputs": [],
   "source": [
    "movie_genre_directors = movie_risk_genre_director.merge(persons_df, on = 'person_id', how='left')"
   ]
  },
  {
   "cell_type": "code",
   "execution_count": null,
   "metadata": {},
   "outputs": [],
   "source": [
    "movie_genre_directors.head()"
   ]
  },
  {
   "cell_type": "code",
   "execution_count": null,
   "metadata": {},
   "outputs": [],
   "source": [
    "movie_genre_directors = movie_genre_directors.drop_duplicates()"
   ]
  },
  {
   "cell_type": "code",
   "execution_count": null,
   "metadata": {},
   "outputs": [],
   "source": [
    "movie_genre_directors.info()"
   ]
  },
  {
   "cell_type": "code",
   "execution_count": null,
   "metadata": {},
   "outputs": [],
   "source": [
    "movie_genre_directors.to_csv('../../csv_exports_for_tableau/movie_genre_directors.csv')"
   ]
  },
  {
   "cell_type": "code",
   "execution_count": null,
   "metadata": {},
   "outputs": [],
   "source": []
  }
 ],
 "metadata": {
  "kernelspec": {
   "display_name": "Python 3",
   "language": "python",
   "name": "python3"
  },
  "language_info": {
   "codemirror_mode": {
    "name": "ipython",
    "version": 3
   },
   "file_extension": ".py",
   "mimetype": "text/x-python",
   "name": "python",
   "nbconvert_exporter": "python",
   "pygments_lexer": "ipython3",
   "version": "3.8.5"
  }
 },
 "nbformat": 4,
 "nbformat_minor": 5
}
