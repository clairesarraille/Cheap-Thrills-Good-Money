{
 "cells": [
  {
   "cell_type": "code",
   "execution_count": 1,
   "id": "96a9e948",
   "metadata": {},
   "outputs": [],
   "source": [
    "import pandas as pd\n",
    "import sqlite3\n",
    "import seaborn as sns\n",
    "import statsmodels.api as sm\n",
    "import statsmodels.formula.api as smf\n",
    "import numpy as np\n",
    "import matplotlib.pyplot as plt\n",
    "sns.set_theme()"
   ]
  },
  {
   "cell_type": "code",
   "execution_count": 2,
   "id": "cc47d61b",
   "metadata": {
    "scrolled": false
   },
   "outputs": [
    {
     "name": "stdout",
     "output_type": "stream",
     "text": [
      "bom.movie_gross.csv  rt.movie_info.tsv    tmdb.movies.csv\r\n",
      "im.db                rt.reviews.tsv       tn.movie_budgets.csv\r\n"
     ]
    }
   ],
   "source": [
    "# viewing data folder\n",
    "\n",
    "! ls ../unzippedData"
   ]
  },
  {
   "cell_type": "code",
   "execution_count": 3,
   "id": "12b39ff2",
   "metadata": {},
   "outputs": [],
   "source": [
    "# making connection to imdb\n",
    "\n",
    "conn = sqlite3.connect('../unzippedData/im.db')"
   ]
  },
  {
   "cell_type": "code",
   "execution_count": 4,
   "id": "0892f738",
   "metadata": {
    "scrolled": true
   },
   "outputs": [],
   "source": [
    "MovieBudget = pd.read_csv('../unzippedData/tn.movie_budgets.csv')\n",
    "# MovieBudget"
   ]
  },
  {
   "cell_type": "code",
   "execution_count": 5,
   "id": "30da8237",
   "metadata": {},
   "outputs": [],
   "source": [
    "# function for cleaning numbers column\n",
    "\n",
    "def clean_number_series(Series):\n",
    "    Series = Series.str.replace(\",\", \"\")\n",
    "    Series = Series.str.replace(\"$\", \"\")\n",
    "    Series = Series.astype(int)\n",
    "    return Series\n",
    "\n",
    "# function for cleaning Column headers\n",
    "\n",
    "def clean_column_headers(dataframe):\n",
    "    dataframe.columns = dataframe.columns.str.title()\n",
    "    dataframe.columns = dataframe.columns.str.replace(\"_\", \" \")\n",
    "    \n",
    "# function for cleaning comma seperated string values of a series into list of strings. Accepts one series.\n",
    "\n",
    "def clean_comma_series(Series):\n",
    "    Series = Series.str.replace(\"_\", \" \")\n",
    "    Series = Series.str.title()\n",
    "    Series = Series.str.split(\",\")\n",
    "    return Series"
   ]
  },
  {
   "cell_type": "code",
   "execution_count": 6,
   "id": "652ebd6c",
   "metadata": {
    "scrolled": true
   },
   "outputs": [
    {
     "name": "stderr",
     "output_type": "stream",
     "text": [
      "/var/folders/9n/kzdbb24d6718p004k3bbjtr40000gn/T/ipykernel_11480/1531069200.py:5: FutureWarning: The default value of regex will change from True to False in a future version. In addition, single character regular expressions will *not* be treated as literal strings when regex=True.\n",
      "  Series = Series.str.replace(\"$\", \"\")\n"
     ]
    }
   ],
   "source": [
    "# Reformatted Movie Budget\n",
    "\n",
    "clean_column_headers(MovieBudget)\n",
    "MovieBudget['Worldwide Gross'] = clean_number_series(MovieBudget['Worldwide Gross'])\n",
    "MovieBudget['Domestic Gross'] = clean_number_series(MovieBudget['Domestic Gross'])\n",
    "MovieBudget['Production Budget'] = clean_number_series(MovieBudget['Production Budget'])\n"
   ]
  },
  {
   "cell_type": "code",
   "execution_count": 7,
   "id": "3a7d42a4",
   "metadata": {
    "scrolled": false
   },
   "outputs": [],
   "source": [
    "# Making Profitability Column and Revenue Budget Ratio Column\n",
    "\n",
    "MovieBudget['Profitability'] = MovieBudget['Worldwide Gross'] - MovieBudget['Production Budget']\n",
    "MovieBudget['Revenue Budget Ratio'] = MovieBudget['Worldwide Gross'] / MovieBudget['Production Budget']\n"
   ]
  },
  {
   "cell_type": "code",
   "execution_count": 8,
   "id": "9ab25dbd",
   "metadata": {
    "scrolled": true
   },
   "outputs": [
    {
     "name": "stderr",
     "output_type": "stream",
     "text": [
      "/var/folders/9n/kzdbb24d6718p004k3bbjtr40000gn/T/ipykernel_11480/4186488630.py:8: SettingWithCopyWarning: \n",
      "A value is trying to be set on a copy of a slice from a DataFrame\n",
      "\n",
      "See the caveats in the documentation: https://pandas.pydata.org/pandas-docs/stable/user_guide/indexing.html#returning-a-view-versus-a-copy\n",
      "  MovieBudgetFiltered.sort_values('Revenue Budget Ratio', ascending=False, inplace=True)\n",
      "/var/folders/9n/kzdbb24d6718p004k3bbjtr40000gn/T/ipykernel_11480/4186488630.py:11: SettingWithCopyWarning: \n",
      "A value is trying to be set on a copy of a slice from a DataFrame.\n",
      "Try using .loc[row_indexer,col_indexer] = value instead\n",
      "\n",
      "See the caveats in the documentation: https://pandas.pydata.org/pandas-docs/stable/user_guide/indexing.html#returning-a-view-versus-a-copy\n",
      "  MovieBudgetFiltered['Release Date'] = MovieBudgetFiltered['Release Date'].str[-4:].astype(int)\n"
     ]
    }
   ],
   "source": [
    "# filtered movies df by date and budget \n",
    "\n",
    "Movies_After_Date = 1990\n",
    "Budget_Max = 17000000\n",
    "Budget_Min = 0\n",
    "\n",
    "MovieBudgetFiltered = MovieBudget[(MovieBudget['Production Budget'] < Budget_Max) & (MovieBudget['Production Budget'] > Budget_Min)]\n",
    "MovieBudgetFiltered.sort_values('Revenue Budget Ratio', ascending=False, inplace=True)\n",
    "MovieBudgetFiltered.reset_index(drop=True, inplace=True)\n",
    "# MovieBudgetFiltered[:50]\n",
    "MovieBudgetFiltered['Release Date'] = MovieBudgetFiltered['Release Date'].str[-4:].astype(int)\n",
    "MovieBudgetFiltered= MovieBudgetFiltered[(MovieBudgetFiltered['Release Date']>Movies_After_Date)].reset_index(drop=True)\n",
    "MovieBudgetFiltered['Movie'] = MovieBudgetFiltered['Movie'].str.replace('â', \"'\")\n",
    "# MovieBudgetFiltered"
   ]
  },
  {
   "cell_type": "code",
   "execution_count": 9,
   "id": "d0984e2e",
   "metadata": {
    "scrolled": true
   },
   "outputs": [],
   "source": [
    "# Connecting to Movie Basics Table where genres reside\n",
    "\n",
    "movie_basics_query = \"\"\" \n",
    "    SELECT *\n",
    "    FROM movie_basics\n",
    "\"\"\"\n",
    "\n",
    "movie_basics_df = pd.read_sql(movie_basics_query, conn)\n",
    "clean_column_headers(movie_basics_df)\n",
    "movie_basics_df['Genres'] = clean_comma_series(movie_basics_df['Genres'])\n",
    "movie_basics_df\n",
    "movie_genres_df = pd.DataFrame([movie_basics_df['Primary Title'], movie_basics_df['Genres']])\n",
    "movie_genres_df = movie_genres_df.transpose()\n",
    "movie_genres_df.columns = movie_genres_df.columns.str.replace('Primary Title', 'Movie')\n",
    "movie_genres_df = movie_genres_df.drop_duplicates('Movie')\n",
    "# movie_genres_df"
   ]
  },
  {
   "cell_type": "code",
   "execution_count": 10,
   "id": "c22e5770",
   "metadata": {
    "scrolled": true
   },
   "outputs": [],
   "source": [
    "# merged data sets\n",
    "\n",
    "Merged_df = MovieBudgetFiltered.merge(movie_genres_df, on = 'Movie', how='left')\n",
    "\n",
    "# Merged_df"
   ]
  },
  {
   "cell_type": "code",
   "execution_count": 11,
   "id": "d874e695",
   "metadata": {
    "scrolled": false
   },
   "outputs": [
    {
     "data": {
      "text/html": [
       "<div>\n",
       "<style scoped>\n",
       "    .dataframe tbody tr th:only-of-type {\n",
       "        vertical-align: middle;\n",
       "    }\n",
       "\n",
       "    .dataframe tbody tr th {\n",
       "        vertical-align: top;\n",
       "    }\n",
       "\n",
       "    .dataframe thead th {\n",
       "        text-align: right;\n",
       "    }\n",
       "</style>\n",
       "<table border=\"1\" class=\"dataframe\">\n",
       "  <thead>\n",
       "    <tr style=\"text-align: right;\">\n",
       "      <th></th>\n",
       "      <th>Id</th>\n",
       "      <th>Release Date</th>\n",
       "      <th>Movie</th>\n",
       "      <th>Production Budget</th>\n",
       "      <th>Domestic Gross</th>\n",
       "      <th>Worldwide Gross</th>\n",
       "      <th>Profitability</th>\n",
       "      <th>RBR</th>\n",
       "      <th>Genres</th>\n",
       "    </tr>\n",
       "  </thead>\n",
       "  <tbody>\n",
       "    <tr>\n",
       "      <th>1</th>\n",
       "      <td>80</td>\n",
       "      <td>2015</td>\n",
       "      <td>The Gallows</td>\n",
       "      <td>100000</td>\n",
       "      <td>22764410</td>\n",
       "      <td>41656474</td>\n",
       "      <td>41556474</td>\n",
       "      <td>416.564740</td>\n",
       "      <td>Horror</td>\n",
       "    </tr>\n",
       "    <tr>\n",
       "      <th>1</th>\n",
       "      <td>80</td>\n",
       "      <td>2015</td>\n",
       "      <td>The Gallows</td>\n",
       "      <td>100000</td>\n",
       "      <td>22764410</td>\n",
       "      <td>41656474</td>\n",
       "      <td>41556474</td>\n",
       "      <td>416.564740</td>\n",
       "      <td>Mystery</td>\n",
       "    </tr>\n",
       "    <tr>\n",
       "      <th>1</th>\n",
       "      <td>80</td>\n",
       "      <td>2015</td>\n",
       "      <td>The Gallows</td>\n",
       "      <td>100000</td>\n",
       "      <td>22764410</td>\n",
       "      <td>41656474</td>\n",
       "      <td>41556474</td>\n",
       "      <td>416.564740</td>\n",
       "      <td>Thriller</td>\n",
       "    </tr>\n",
       "    <tr>\n",
       "      <th>14</th>\n",
       "      <td>12</td>\n",
       "      <td>2012</td>\n",
       "      <td>The Devil Inside</td>\n",
       "      <td>1000000</td>\n",
       "      <td>53262945</td>\n",
       "      <td>101759490</td>\n",
       "      <td>100759490</td>\n",
       "      <td>101.759490</td>\n",
       "      <td>Horror</td>\n",
       "    </tr>\n",
       "    <tr>\n",
       "      <th>15</th>\n",
       "      <td>60</td>\n",
       "      <td>2009</td>\n",
       "      <td>Home</td>\n",
       "      <td>500000</td>\n",
       "      <td>15433</td>\n",
       "      <td>44793168</td>\n",
       "      <td>44293168</td>\n",
       "      <td>89.586336</td>\n",
       "      <td>Drama</td>\n",
       "    </tr>\n",
       "    <tr>\n",
       "      <th>...</th>\n",
       "      <td>...</td>\n",
       "      <td>...</td>\n",
       "      <td>...</td>\n",
       "      <td>...</td>\n",
       "      <td>...</td>\n",
       "      <td>...</td>\n",
       "      <td>...</td>\n",
       "      <td>...</td>\n",
       "      <td>...</td>\n",
       "    </tr>\n",
       "    <tr>\n",
       "      <th>2406</th>\n",
       "      <td>96</td>\n",
       "      <td>2015</td>\n",
       "      <td>The Walking Deceased</td>\n",
       "      <td>2000000</td>\n",
       "      <td>0</td>\n",
       "      <td>0</td>\n",
       "      <td>-2000000</td>\n",
       "      <td>0.000000</td>\n",
       "      <td>Horror</td>\n",
       "    </tr>\n",
       "    <tr>\n",
       "      <th>2407</th>\n",
       "      <td>97</td>\n",
       "      <td>2011</td>\n",
       "      <td>True Bromance</td>\n",
       "      <td>2000000</td>\n",
       "      <td>0</td>\n",
       "      <td>0</td>\n",
       "      <td>-2000000</td>\n",
       "      <td>0.000000</td>\n",
       "      <td>Comedy</td>\n",
       "    </tr>\n",
       "    <tr>\n",
       "      <th>2408</th>\n",
       "      <td>98</td>\n",
       "      <td>2015</td>\n",
       "      <td>The Curse of Downers Grove</td>\n",
       "      <td>2000000</td>\n",
       "      <td>0</td>\n",
       "      <td>0</td>\n",
       "      <td>-2000000</td>\n",
       "      <td>0.000000</td>\n",
       "      <td>Drama</td>\n",
       "    </tr>\n",
       "    <tr>\n",
       "      <th>2408</th>\n",
       "      <td>98</td>\n",
       "      <td>2015</td>\n",
       "      <td>The Curse of Downers Grove</td>\n",
       "      <td>2000000</td>\n",
       "      <td>0</td>\n",
       "      <td>0</td>\n",
       "      <td>-2000000</td>\n",
       "      <td>0.000000</td>\n",
       "      <td>Horror</td>\n",
       "    </tr>\n",
       "    <tr>\n",
       "      <th>2408</th>\n",
       "      <td>98</td>\n",
       "      <td>2015</td>\n",
       "      <td>The Curse of Downers Grove</td>\n",
       "      <td>2000000</td>\n",
       "      <td>0</td>\n",
       "      <td>0</td>\n",
       "      <td>-2000000</td>\n",
       "      <td>0.000000</td>\n",
       "      <td>Mystery</td>\n",
       "    </tr>\n",
       "  </tbody>\n",
       "</table>\n",
       "<p>2304 rows × 9 columns</p>\n",
       "</div>"
      ],
      "text/plain": [
       "      Id  Release Date                       Movie  Production Budget  \\\n",
       "1     80          2015                 The Gallows             100000   \n",
       "1     80          2015                 The Gallows             100000   \n",
       "1     80          2015                 The Gallows             100000   \n",
       "14    12          2012            The Devil Inside            1000000   \n",
       "15    60          2009                        Home             500000   \n",
       "...   ..           ...                         ...                ...   \n",
       "2406  96          2015        The Walking Deceased            2000000   \n",
       "2407  97          2011               True Bromance            2000000   \n",
       "2408  98          2015  The Curse of Downers Grove            2000000   \n",
       "2408  98          2015  The Curse of Downers Grove            2000000   \n",
       "2408  98          2015  The Curse of Downers Grove            2000000   \n",
       "\n",
       "      Domestic Gross  Worldwide Gross  Profitability         RBR    Genres  \n",
       "1           22764410         41656474       41556474  416.564740    Horror  \n",
       "1           22764410         41656474       41556474  416.564740   Mystery  \n",
       "1           22764410         41656474       41556474  416.564740  Thriller  \n",
       "14          53262945        101759490      100759490  101.759490    Horror  \n",
       "15             15433         44793168       44293168   89.586336     Drama  \n",
       "...              ...              ...            ...         ...       ...  \n",
       "2406               0                0       -2000000    0.000000    Horror  \n",
       "2407               0                0       -2000000    0.000000    Comedy  \n",
       "2408               0                0       -2000000    0.000000     Drama  \n",
       "2408               0                0       -2000000    0.000000    Horror  \n",
       "2408               0                0       -2000000    0.000000   Mystery  \n",
       "\n",
       "[2304 rows x 9 columns]"
      ]
     },
     "execution_count": 11,
     "metadata": {},
     "output_type": "execute_result"
    }
   ],
   "source": [
    "# Explode Datasets\n",
    "\n",
    "MergedExploded_df = Merged_df.explode('Genres')\n",
    "MergedExploded_df.dropna(inplace=True)\n",
    "MergedExploded_df.columns = MergedExploded_df.columns.str.replace('Revenue Budget Ratio', 'RBR')\n",
    "\n",
    "# MergedExploded_df.dropna(subset='Genres', inplace=True)\n",
    "\n",
    "MergedExploded_df"
   ]
  },
  {
   "cell_type": "code",
   "execution_count": 12,
   "id": "3be8237c",
   "metadata": {},
   "outputs": [
    {
     "data": {
      "text/plain": [
       "Drama          610\n",
       "Comedy         280\n",
       "Thriller       201\n",
       "Horror         191\n",
       "Romance        140\n",
       "Crime          130\n",
       "Action         123\n",
       "Documentary    107\n",
       "Mystery         95\n",
       "Biography       84\n",
       "Adventure       67\n",
       "Sci-Fi          63\n",
       "Family          47\n",
       "Music           37\n",
       "Fantasy         35\n",
       "History         30\n",
       "Sport           26\n",
       "War             13\n",
       "Animation       10\n",
       "Musical          7\n",
       "Western          7\n",
       "News             1\n",
       "Name: Genres, dtype: int64"
      ]
     },
     "execution_count": 12,
     "metadata": {},
     "output_type": "execute_result"
    }
   ],
   "source": [
    "MergedExploded_df['Genres'].value_counts()"
   ]
  },
  {
   "cell_type": "code",
   "execution_count": 13,
   "id": "c497f2e8",
   "metadata": {},
   "outputs": [],
   "source": [
    "R1_LookupTable = list(MergedExploded_df['Genres'].value_counts()[:10].index)\n",
    "R1_LookupTable\n",
    "MergedExploded_df = MergedExploded_df.loc[MergedExploded_df['Genres'].isin(R1_LookupTable)]\n",
    "# FILTER['Genres'].value_counts()"
   ]
  },
  {
   "cell_type": "code",
   "execution_count": 14,
   "id": "ed578000",
   "metadata": {
    "scrolled": true
   },
   "outputs": [
    {
     "data": {
      "text/plain": [
       "Drama          610\n",
       "Comedy         280\n",
       "Thriller       201\n",
       "Horror         191\n",
       "Romance        140\n",
       "Crime          130\n",
       "Action         123\n",
       "Documentary    107\n",
       "Mystery         95\n",
       "Biography       84\n",
       "Name: Genres, dtype: int64"
      ]
     },
     "execution_count": 14,
     "metadata": {},
     "output_type": "execute_result"
    }
   ],
   "source": [
    "MergedExploded_df['Genres'].value_counts()"
   ]
  },
  {
   "cell_type": "code",
   "execution_count": 15,
   "id": "a99474eb",
   "metadata": {
    "scrolled": true
   },
   "outputs": [
    {
     "name": "stderr",
     "output_type": "stream",
     "text": [
      "/var/folders/9n/kzdbb24d6718p004k3bbjtr40000gn/T/ipykernel_11480/352577621.py:2: FutureWarning: The default value of numeric_only in DataFrameGroupBy.mean is deprecated. In a future version, numeric_only will default to False. Either specify numeric_only or select only columns which should be valid for the function.\n",
      "  MergedExploded_df.groupby(by='Genres').mean()['RBR'].sort_values(ascending=False)\n"
     ]
    },
    {
     "data": {
      "text/plain": [
       "Genres\n",
       "Mystery        12.270488\n",
       "Horror          8.811601\n",
       "Thriller        6.849030\n",
       "Biography       4.055866\n",
       "Romance         3.976873\n",
       "Drama           3.269373\n",
       "Comedy          2.936666\n",
       "Action          2.464099\n",
       "Documentary     2.267696\n",
       "Crime           1.714850\n",
       "Name: RBR, dtype: float64"
      ]
     },
     "execution_count": 15,
     "metadata": {},
     "output_type": "execute_result"
    }
   ],
   "source": [
    "# Mean RBR by Genre\n",
    "MergedExploded_df.groupby(by='Genres').mean()['RBR'].sort_values(ascending=False)"
   ]
  },
  {
   "cell_type": "code",
   "execution_count": 16,
   "id": "44e5b856",
   "metadata": {
    "scrolled": false
   },
   "outputs": [
    {
     "data": {
      "text/html": [
       "<table class=\"simpletable\">\n",
       "<caption>OLS Regression Results</caption>\n",
       "<tr>\n",
       "  <th>Dep. Variable:</th>           <td>RBR</td>       <th>  R-squared:         </th> <td>   0.022</td> \n",
       "</tr>\n",
       "<tr>\n",
       "  <th>Model:</th>                   <td>OLS</td>       <th>  Adj. R-squared:    </th> <td>   0.017</td> \n",
       "</tr>\n",
       "<tr>\n",
       "  <th>Method:</th>             <td>Least Squares</td>  <th>  F-statistic:       </th> <td>   4.870</td> \n",
       "</tr>\n",
       "<tr>\n",
       "  <th>Date:</th>             <td>Thu, 03 Aug 2023</td> <th>  Prob (F-statistic):</th> <td>1.80e-06</td> \n",
       "</tr>\n",
       "<tr>\n",
       "  <th>Time:</th>                 <td>12:55:32</td>     <th>  Log-Likelihood:    </th> <td> -8438.8</td> \n",
       "</tr>\n",
       "<tr>\n",
       "  <th>No. Observations:</th>      <td>  1961</td>      <th>  AIC:               </th> <td>1.690e+04</td>\n",
       "</tr>\n",
       "<tr>\n",
       "  <th>Df Residuals:</th>          <td>  1951</td>      <th>  BIC:               </th> <td>1.695e+04</td>\n",
       "</tr>\n",
       "<tr>\n",
       "  <th>Df Model:</th>              <td>     9</td>      <th>                     </th>     <td> </td>    \n",
       "</tr>\n",
       "<tr>\n",
       "  <th>Covariance Type:</th>      <td>nonrobust</td>    <th>                     </th>     <td> </td>    \n",
       "</tr>\n",
       "</table>\n",
       "<table class=\"simpletable\">\n",
       "<tr>\n",
       "              <td></td>                <th>coef</th>     <th>std err</th>      <th>t</th>      <th>P>|t|</th>  <th>[0.025</th>    <th>0.975]</th>  \n",
       "</tr>\n",
       "<tr>\n",
       "  <th>Intercept</th>                <td>    2.4641</td> <td>    1.617</td> <td>    1.523</td> <td> 0.128</td> <td>   -0.708</td> <td>    5.636</td>\n",
       "</tr>\n",
       "<tr>\n",
       "  <th>C(Genres)[T.Biography]</th>   <td>    1.5918</td> <td>    2.539</td> <td>    0.627</td> <td> 0.531</td> <td>   -3.388</td> <td>    6.571</td>\n",
       "</tr>\n",
       "<tr>\n",
       "  <th>C(Genres)[T.Comedy]</th>      <td>    0.4726</td> <td>    1.940</td> <td>    0.244</td> <td> 0.808</td> <td>   -3.333</td> <td>    4.278</td>\n",
       "</tr>\n",
       "<tr>\n",
       "  <th>C(Genres)[T.Crime]</th>       <td>   -0.7492</td> <td>    2.256</td> <td>   -0.332</td> <td> 0.740</td> <td>   -5.174</td> <td>    3.676</td>\n",
       "</tr>\n",
       "<tr>\n",
       "  <th>C(Genres)[T.Documentary]</th> <td>   -0.1964</td> <td>    2.371</td> <td>   -0.083</td> <td> 0.934</td> <td>   -4.847</td> <td>    4.454</td>\n",
       "</tr>\n",
       "<tr>\n",
       "  <th>C(Genres)[T.Drama]</th>       <td>    0.8053</td> <td>    1.773</td> <td>    0.454</td> <td> 0.650</td> <td>   -2.672</td> <td>    4.282</td>\n",
       "</tr>\n",
       "<tr>\n",
       "  <th>C(Genres)[T.Horror]</th>      <td>    6.3475</td> <td>    2.074</td> <td>    3.061</td> <td> 0.002</td> <td>    2.280</td> <td>   10.415</td>\n",
       "</tr>\n",
       "<tr>\n",
       "  <th>C(Genres)[T.Mystery]</th>     <td>    9.8064</td> <td>    2.450</td> <td>    4.002</td> <td> 0.000</td> <td>    5.001</td> <td>   14.612</td>\n",
       "</tr>\n",
       "<tr>\n",
       "  <th>C(Genres)[T.Romance]</th>     <td>    1.5128</td> <td>    2.217</td> <td>    0.682</td> <td> 0.495</td> <td>   -2.835</td> <td>    5.860</td>\n",
       "</tr>\n",
       "<tr>\n",
       "  <th>C(Genres)[T.Thriller]</th>    <td>    4.3849</td> <td>    2.054</td> <td>    2.135</td> <td> 0.033</td> <td>    0.358</td> <td>    8.412</td>\n",
       "</tr>\n",
       "</table>\n",
       "<table class=\"simpletable\">\n",
       "<tr>\n",
       "  <th>Omnibus:</th>       <td>4199.929</td> <th>  Durbin-Watson:     </th>   <td>   0.198</td>  \n",
       "</tr>\n",
       "<tr>\n",
       "  <th>Prob(Omnibus):</th>  <td> 0.000</td>  <th>  Jarque-Bera (JB):  </th> <td>13777908.045</td>\n",
       "</tr>\n",
       "<tr>\n",
       "  <th>Skew:</th>           <td>18.415</td>  <th>  Prob(JB):          </th>   <td>    0.00</td>  \n",
       "</tr>\n",
       "<tr>\n",
       "  <th>Kurtosis:</th>       <td>411.982</td> <th>  Cond. No.          </th>   <td>    14.2</td>  \n",
       "</tr>\n",
       "</table><br/><br/>Notes:<br/>[1] Standard Errors assume that the covariance matrix of the errors is correctly specified."
      ],
      "text/plain": [
       "<class 'statsmodels.iolib.summary.Summary'>\n",
       "\"\"\"\n",
       "                            OLS Regression Results                            \n",
       "==============================================================================\n",
       "Dep. Variable:                    RBR   R-squared:                       0.022\n",
       "Model:                            OLS   Adj. R-squared:                  0.017\n",
       "Method:                 Least Squares   F-statistic:                     4.870\n",
       "Date:                Thu, 03 Aug 2023   Prob (F-statistic):           1.80e-06\n",
       "Time:                        12:55:32   Log-Likelihood:                -8438.8\n",
       "No. Observations:                1961   AIC:                         1.690e+04\n",
       "Df Residuals:                    1951   BIC:                         1.695e+04\n",
       "Df Model:                           9                                         \n",
       "Covariance Type:            nonrobust                                         \n",
       "============================================================================================\n",
       "                               coef    std err          t      P>|t|      [0.025      0.975]\n",
       "--------------------------------------------------------------------------------------------\n",
       "Intercept                    2.4641      1.617      1.523      0.128      -0.708       5.636\n",
       "C(Genres)[T.Biography]       1.5918      2.539      0.627      0.531      -3.388       6.571\n",
       "C(Genres)[T.Comedy]          0.4726      1.940      0.244      0.808      -3.333       4.278\n",
       "C(Genres)[T.Crime]          -0.7492      2.256     -0.332      0.740      -5.174       3.676\n",
       "C(Genres)[T.Documentary]    -0.1964      2.371     -0.083      0.934      -4.847       4.454\n",
       "C(Genres)[T.Drama]           0.8053      1.773      0.454      0.650      -2.672       4.282\n",
       "C(Genres)[T.Horror]          6.3475      2.074      3.061      0.002       2.280      10.415\n",
       "C(Genres)[T.Mystery]         9.8064      2.450      4.002      0.000       5.001      14.612\n",
       "C(Genres)[T.Romance]         1.5128      2.217      0.682      0.495      -2.835       5.860\n",
       "C(Genres)[T.Thriller]        4.3849      2.054      2.135      0.033       0.358       8.412\n",
       "==============================================================================\n",
       "Omnibus:                     4199.929   Durbin-Watson:                   0.198\n",
       "Prob(Omnibus):                  0.000   Jarque-Bera (JB):         13777908.045\n",
       "Skew:                          18.415   Prob(JB):                         0.00\n",
       "Kurtosis:                     411.982   Cond. No.                         14.2\n",
       "==============================================================================\n",
       "\n",
       "Notes:\n",
       "[1] Standard Errors assume that the covariance matrix of the errors is correctly specified.\n",
       "\"\"\""
      ]
     },
     "execution_count": 16,
     "metadata": {},
     "output_type": "execute_result"
    }
   ],
   "source": [
    "# Linear Regression and Anova\n",
    "results = smf.ols(formula=\"RBR ~ C(Genres)\", data=MergedExploded_df).fit()\n",
    "results.summary()"
   ]
  },
  {
   "cell_type": "code",
   "execution_count": 17,
   "id": "be724440",
   "metadata": {},
   "outputs": [
    {
     "data": {
      "image/png": "[encoded data removed]",
      "text/plain": [
       "<Figure size 1000x600 with 1 Axes>"
      ]
     },
     "metadata": {},
     "output_type": "display_data"
    }
   ],
   "source": [
    "\n",
    "fig, ax = plt.subplots(figsize=(10,6))\n",
    "ax.scatter(data=MergedExploded_df, x='Genres', y='RBR', alpha=0.2)\n",
    "ax.set_ylim(top=180, bottom =-5)\n",
    "ax.set_ylabel('Revenue Budget Ratio')\n",
    "ax.set_xlabel('Genre')\n",
    "ax.tick_params(axis='x', labelsize=12, labelrotation=45)\n",
    "\n",
    "plt.tight_layout()"
   ]
  },
  {
   "cell_type": "code",
   "execution_count": 18,
   "id": "319fec94",
   "metadata": {
    "scrolled": true
   },
   "outputs": [
    {
     "name": "stderr",
     "output_type": "stream",
     "text": [
      "/var/folders/9n/kzdbb24d6718p004k3bbjtr40000gn/T/ipykernel_11480/2050264355.py:27: FutureWarning: The default value of numeric_only in DataFrameGroupBy.mean is deprecated. In a future version, numeric_only will default to False. Either specify numeric_only or select only columns which should be valid for the function.\n",
      "  TopThreeGenres_df.groupby(by='Name').mean()['Revenue Budget Ratio'].sort_values(ascending=False)[:10]\n"
     ]
    },
    {
     "data": {
      "text/plain": [
       "Name\n",
       "Chris Lofing          416.564740\n",
       "William Brent Bell    101.759490\n",
       "Jordan Peele           51.073590\n",
       "Bradley Parker         42.411721\n",
       "John R. Leonetti       39.517372\n",
       "Daniel Stamm           38.981056\n",
       "James DeMonaco         30.422194\n",
       "Holly Bell             29.242602\n",
       "Yun Xie                27.179241\n",
       "Tom Boyle              27.179241\n",
       "Name: Revenue Budget Ratio, dtype: float64"
      ]
     },
     "execution_count": 18,
     "metadata": {},
     "output_type": "execute_result"
    }
   ],
   "source": [
    "# Connecting to Persons Schema and Joining with Known For and Movie Basics Schemas\n",
    "\n",
    "persons_query = \"\"\" \n",
    "    SELECT *\n",
    "    FROM persons\n",
    "    JOIN directors\n",
    "        USING(person_id)\n",
    "    JOIN movie_basics\n",
    "        USING(movie_id)\n",
    "\"\"\"\n",
    "\n",
    "joined_df = pd.read_sql(persons_query, conn)\n",
    "\n",
    "clean_column_headers(joined_df)\n",
    "joined_df = pd.DataFrame(data=joined_df, columns=['Primary Name', 'Primary Title'])\n",
    "joined_df.columns = joined_df.columns.str.replace('Primary Title', 'Movie')\n",
    "joined_df.columns = joined_df.columns.str.replace('Primary Name', 'Name')\n",
    "joined_df = joined_df.drop_duplicates(subset='Name')\n",
    "\n",
    "# Creating Top Three Genres Dataframe\n",
    "Merged_df.dropna(inplace=True)\n",
    "Merged_df = Merged_df.merge(joined_df, on = 'Movie', how='left')\n",
    "TopThreeGenres_df = Merged_df.loc[(Merged_df['Genres'].apply(lambda x: 'Horror' in x)) | (Merged_df['Genres'].apply(lambda x: 'Mystery' in x))\n",
    "             | (Merged_df['Genres'].apply(lambda x: 'Thriller' in x))].reset_index(drop=True)\n",
    "TopThreeGenres_df.dropna(inplace=True)\n",
    "\n",
    "TopThreeGenres_df.groupby(by='Name').mean()['Revenue Budget Ratio'].sort_values(ascending=False)[:10]\n",
    "\n"
   ]
  },
  {
   "cell_type": "code",
   "execution_count": 19,
   "id": "c9ab9b5f",
   "metadata": {},
   "outputs": [
    {
     "data": {
      "text/plain": [
       "Padcha Ithi          2\n",
       "Alicia Dwyer         2\n",
       "Emilio Belmonte      2\n",
       "Ric Roman Waugh      2\n",
       "Sebastian Klinger    2\n",
       "                    ..\n",
       "Jordan Brown         1\n",
       "Jonatan Burnett      1\n",
       "Jerry Jameson        1\n",
       "David Kabale         1\n",
       "Scott Dow            1\n",
       "Name: Name, Length: 360, dtype: int64"
      ]
     },
     "execution_count": 19,
     "metadata": {},
     "output_type": "execute_result"
    }
   ],
   "source": [
    "TopThreeGenres_df['Name'].value_counts()"
   ]
  },
  {
   "cell_type": "code",
   "execution_count": null,
   "id": "dddfd388",
   "metadata": {},
   "outputs": [],
   "source": []
  }
 ],
 "metadata": {
  "kernelspec": {
   "display_name": "Python (learn-env)",
   "language": "python",
   "name": "learn-env"
  },
  "language_info": {
   "codemirror_mode": {
    "name": "ipython",
    "version": 3
   },
   "file_extension": ".py",
   "mimetype": "text/x-python",
   "name": "python",
   "nbconvert_exporter": "python",
   "pygments_lexer": "ipython3",
   "version": "3.10.9"
  }
 },
 "nbformat": 4,
 "nbformat_minor": 5
}
